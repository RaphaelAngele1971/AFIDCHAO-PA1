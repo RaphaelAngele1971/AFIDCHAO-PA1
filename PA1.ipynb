{
 "cells": [
  {
   "cell_type": "markdown",
   "id": "e9f06198-abde-46a5-9892-80f74ca1601a",
   "metadata": {},
   "source": [
    "# Programming Assignment 1"
   ]
  },
  {
   "cell_type": "markdown",
   "id": "3ab0a74e-efc0-4005-8612-7f4cf914ef7e",
   "metadata": {},
   "source": [
    "### 1. ALPHABET SOUP Problem"
   ]
  },
  {
   "cell_type": "markdown",
   "id": "75021bf1-dda9-4c6d-b6ea-e9c997f3732d",
   "metadata": {},
   "source": [
    "Create a function that takes a string and returns a string with its letters in alphabetical order."
   ]
  },
  {
   "cell_type": "code",
   "execution_count": 4,
   "id": "f5059cb6-03fa-49a4-8e90-ff9358ee4215",
   "metadata": {},
   "outputs": [
    {
     "name": "stdin",
     "output_type": "stream",
     "text": [
      "Smash your keyboard (no special characters):  vbiwusbrvkbwoiur\n"
     ]
    },
    {
     "name": "stdout",
     "output_type": "stream",
     "text": [
      "If vbiwusbrvkbwoiur was alphabetically arranged, it would be bbbiikorrsuuvvww\n"
     ]
    }
   ],
   "source": [
    "def alphabet_soup():\n",
    "\n",
    "    phrase = input(\"Smash your keyboard (no special characters): \")\n",
    "\n",
    "    arranged = ''.join(sorted(phrase.replace(\" \", \"\")))\n",
    "\n",
    "    return f\"If {phrase} was alphabetically arranged, it would be {arranged}\"\n",
    "\n",
    "print(alphabet_soup())"
   ]
  },
  {
   "cell_type": "markdown",
   "id": "e628ace0-aa96-40b6-afd7-f5ef70cd1b51",
   "metadata": {},
   "source": [
    "### 2. EMOTICON Problem"
   ]
  },
  {
   "cell_type": "markdown",
   "id": "4cef8113-835d-4012-9943-69599c2ce018",
   "metadata": {},
   "source": [
    "Create a function that changes specific words into emoticons. Given a sentence as a string, replace the words smile, grin, sad and mad with their corresponding emoticon:"
   ]
  },
  {
   "cell_type": "code",
   "execution_count": 8,
   "id": "7423e16f-b4ed-4e99-bd63-3e205de70a40",
   "metadata": {},
   "outputs": [
    {
     "name": "stdin",
     "output_type": "stream",
     "text": [
      "Choose a word to use in a sentence (Smile, Grin, Sad, Mad) :  i love to smile\n"
     ]
    },
    {
     "name": "stdout",
     "output_type": "stream",
     "text": [
      "Converted sentence: i love to :)\n"
     ]
    }
   ],
   "source": [
    "def emotify(phrase):\n",
    "    emoticon = {\"smile\": \":)\", \"grin\": \":D\", \"sad\": \":((\", \"mad\": \">:(\"}\n",
    "    \n",
    "    for word, emoticon in emoticon.items():\n",
    "        phrase = phrase.replace(word, emoticon)\n",
    "    \n",
    "    return phrase\n",
    "\n",
    "user = input(\"Choose a word to use in a sentence (Smile, Grin, Sad, Mad) : \")\n",
    "print(\"Converted sentence:\", emotify(user))"
   ]
  },
  {
   "cell_type": "markdown",
   "id": "57e2f046-1eef-4928-9cb9-30f0bca1286e",
   "metadata": {},
   "source": [
    "### 3. UNPACKING LIST Problem"
   ]
  },
  {
   "cell_type": "markdown",
   "id": "b5168d6d-a1f7-49fb-99aa-eddff42e31e4",
   "metadata": {},
   "source": [
    "Unpack the list writeyourcodehere into three variables, being first, middle, and last, with middle being everything in between the first and last element. Then print all three variables."
   ]
  },
  {
   "cell_type": "code",
   "execution_count": 12,
   "id": "3701718a-cd85-4c8a-a494-4a3029bb8c28",
   "metadata": {},
   "outputs": [
    {
     "name": "stdin",
     "output_type": "stream",
     "text": [
      "Enter a list of numbers separated by spaces:  3 1 4 1 5 9 2 6 5\n"
     ]
    },
    {
     "name": "stdout",
     "output_type": "stream",
     "text": [
      "First Number: 3\n",
      "Middle Number/s: [1, 4, 1, 5, 9, 2, 6]\n",
      "Last Number: 5\n"
     ]
    }
   ],
   "source": [
    "nos = input(\"Enter a list of numbers separated by spaces: \")\n",
    "\n",
    "writeyourcodehere = list(map(int, nos.split()))\n",
    "\n",
    "first, *middle, last = writeyourcodehere\n",
    "\n",
    "print(\"First Number:\", first)\n",
    "print(\"Middle Number/s:\", middle)\n",
    "print(\"Last Number:\", last)"
   ]
  },
  {
   "cell_type": "markdown",
   "id": "8b46a2b3-191b-45a9-a23c-dabc7ee80e5e",
   "metadata": {},
   "source": [
    "##### CODED BY: AFIDCHAO, DANIELLE TAYLAN OF 2ECE-A"
   ]
  },
  {
   "cell_type": "markdown",
   "id": "ea34d7a6-30e9-46dd-8725-df10ae3bfb7e",
   "metadata": {},
   "source": [
    "##### SUBMITTED TO: MDM. MA MADECHEEN PANGALIMAN"
   ]
  },
  {
   "cell_type": "code",
   "execution_count": null,
   "id": "f8f39ea0-55e5-4c85-a40c-82d360f6a3ba",
   "metadata": {},
   "outputs": [],
   "source": []
  }
 ],
 "metadata": {
  "kernelspec": {
   "display_name": "Python 3 (ipykernel)",
   "language": "python",
   "name": "python3"
  },
  "language_info": {
   "codemirror_mode": {
    "name": "ipython",
    "version": 3
   },
   "file_extension": ".py",
   "mimetype": "text/x-python",
   "name": "python",
   "nbconvert_exporter": "python",
   "pygments_lexer": "ipython3",
   "version": "3.12.4"
  }
 },
 "nbformat": 4,
 "nbformat_minor": 5
}
